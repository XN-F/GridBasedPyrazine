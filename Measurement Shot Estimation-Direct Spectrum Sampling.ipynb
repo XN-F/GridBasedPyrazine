{
 "cells": [
  {
   "cell_type": "code",
   "execution_count": null,
   "id": "3cea0a1e",
   "metadata": {},
   "outputs": [],
   "source": [
    "import numpy as np\n",
    "from scipy.stats import rv_discrete\n",
    "from numpy import genfromtxt\n",
    "import matplotlib.pyplot as plt"
   ]
  },
  {
   "cell_type": "code",
   "execution_count": null,
   "id": "32db44b7",
   "metadata": {},
   "outputs": [],
   "source": [
    "#time axis\n",
    "timearray = np.array(t_list)*0.6582119  # hbar = 0.6582119 (eV fs)\n",
    "dtime  = t_list[2]-t_list[1]\n",
    "\n",
    "restime = len(timearray)\n",
    "denergy  = 2 * np.pi / (restime * dtime)\n",
    "energyaxis = np.concatenate((np.arange(0, restime/ 2-1),\n",
    "                        np.arange(-restime/ 2, 0))) * denergy\n",
    "ZeroPointEnergy = 0.22585\n",
    "energyaxisshifted = energyaxis - ZeroPointEnergy\n",
    "energyaxisshifted_mask = (energyaxisshifted >= -1.1) & (energyaxisshifted <= 1.4)\n",
    "\n",
    "autoarray = np.array(auto_list)\n",
    "autoarray *= np.exp(-timearray/30) #broadening function\n",
    "autofft  = np.fft.ifft(autoarray)\n",
    "autofft *= 40 #adjustable scaling factor"
   ]
  },
  {
   "cell_type": "code",
   "execution_count": null,
   "id": "8366e70c",
   "metadata": {},
   "outputs": [],
   "source": [
    "def total_variation_distance(p, q):\n",
    "    return 0.5 * np.sum(np.abs(p - q))"
   ]
  },
  {
   "cell_type": "code",
   "execution_count": null,
   "id": "e4b1eeaf",
   "metadata": {},
   "outputs": [],
   "source": [
    "f_x = np.abs(np.real(autofft))-np.min(np.abs(np.real(autofft)))\n",
    "\n",
    "f_x = f_x / np.sum(f_x)\n",
    "\n",
    "target_distribution = rv_discrete(values=(energyaxisshifted, f_x))\n",
    "\n",
    "np.random.seed(0) \n",
    "tvd_thresholds = [0.04, 0.03, 0.02, 0.01] \n",
    "max_measurements = 200000  \n",
    "\n",
    "required_measurements = {tvd: None for tvd in tvd_thresholds}  \n",
    "empirical_distributions = {tvd: [] for tvd in tvd_thresholds}\n",
    "initial_measurements = {tvd: None for tvd in tvd_thresholds} \n",
    "initial_distributions = {tvd: None for tvd in tvd_thresholds}  \n",
    "required_tvds = {tvd: None for tvd in tvd_thresholds}  \n",
    "\n",
    "\n",
    "consecutive_threshold_met = 5  \n",
    "sample_counts = []\n",
    "tvds = []\n",
    "stable_counts = {tvd: 0 for tvd in tvd_thresholds}  \n",
    "\n",
    "\n",
    "for N in range(1000, max_measurements + 1, 1000):\n",
    "    \n",
    "    samples = target_distribution.rvs(size=N)\n",
    "    \n",
    "    \n",
    "    empirical_counts = np.array([np.sum(samples == x) for x in energyaxisshifted])\n",
    "    empirical_distribution = empirical_counts / N\n",
    "\n",
    "    \n",
    "    current_tvd = total_variation_distance(f_x[energyaxisshifted_mask], empirical_distribution[energyaxisshifted_mask])\n",
    "    sample_counts.append(N)\n",
    "    tvds.append(current_tvd)\n",
    "    \n",
    "    for tvd in tvd_thresholds:\n",
    "        if current_tvd < tvd:\n",
    "            stable_counts[tvd] += 1  \n",
    "            \n",
    "            if stable_counts[tvd] == 1:\n",
    "                initial_measurements[tvd] = N\n",
    "                initial_distributions[tvd] = empirical_distribution.copy()\n",
    "            \n",
    "            if stable_counts[tvd] == consecutive_threshold_met and required_measurements[tvd] is None:\n",
    "                required_measurements[tvd] = initial_measurements[tvd]\n",
    "                empirical_distributions[tvd] = initial_distributions[tvd]\n",
    "                required_tvds[tvd] = current_tvd  \n",
    "                print(f\"Number of Measurements Reaching TVD Threshold of {tvd*100:.2f}%：{initial_measurements[tvd]}, Actual TVD：{current_tvd*100:.2f}%\")\n",
    "        else:\n",
    "            stable_counts[tvd] = 0            "
   ]
  },
  {
   "cell_type": "code",
   "execution_count": null,
   "id": "62543c4c",
   "metadata": {},
   "outputs": [],
   "source": [
    "plt.plot(sample_counts, tvds)\n",
    "plt.ylim(0, 0.12)\n",
    "plt.xlabel(\"Number of Measurements (M)\")\n",
    "plt.ylabel(\"Total Variation Distance (TVD)\")"
   ]
  },
  {
   "cell_type": "code",
   "execution_count": null,
   "id": "f589c1a7",
   "metadata": {},
   "outputs": [],
   "source": [
    "plt.plot(energyaxisshifted[energyaxisshifted_mask], f_x[energyaxisshifted_mask], label='Target Spectrum')\n",
    "for i, tvd in enumerate(tvd_thresholds):\n",
    "    if empirical_distributions[tvd] is not None:\n",
    "        plt.plot(energyaxisshifted[energyaxisshifted_mask], empirical_distributions[tvd][energyaxisshifted_mask],label=f'M = {required_measurements[tvd]:,}, TVD = {required_tvds[tvd] * 100:.2f}%')\n",
    "\n",
    "plt.ylim(-0.005,0.05)\n",
    "plt.xlim(-1,1)\n",
    "plt.yticks([])\n",
    "plt.legend(loc='best')\n",
    "plt.ylabel('Intensity')\n",
    "plt.xlabel('Energy (eV)')"
   ]
  }
 ],
 "metadata": {
  "kernelspec": {
   "display_name": "Python 3 (ipykernel)",
   "language": "python",
   "name": "python3"
  },
  "language_info": {
   "codemirror_mode": {
    "name": "ipython",
    "version": 3
   },
   "file_extension": ".py",
   "mimetype": "text/x-python",
   "name": "python",
   "nbconvert_exporter": "python",
   "pygments_lexer": "ipython3",
   "version": "3.11.4"
  }
 },
 "nbformat": 4,
 "nbformat_minor": 5
}
