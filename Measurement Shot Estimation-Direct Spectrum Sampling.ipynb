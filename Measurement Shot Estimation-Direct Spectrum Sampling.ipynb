{
 "cells": [
  {
   "cell_type": "code",
   "execution_count": 1,
   "id": "3cea0a1e",
   "metadata": {},
   "outputs": [],
   "source": [
    "import numpy as np\n",
    "from scipy.stats import rv_discrete\n",
    "from numpy import genfromtxt\n",
    "import matplotlib.pyplot as plt\n",
    "from numpy import genfromtxt"
   ]
  },
  {
   "cell_type": "code",
   "execution_count": 2,
   "id": "5cf67b28",
   "metadata": {},
   "outputs": [],
   "source": [
    "#load the saved data for further use:\n",
    "t_list = genfromtxt('pyrazine t_list.csv', delimiter=',', dtype=np.complex128)\n",
    "auto_list = genfromtxt('pyrazine auto_list.csv', delimiter=',', dtype=np.complex128)"
   ]
  },
  {
   "cell_type": "code",
   "execution_count": 3,
   "id": "32db44b7",
   "metadata": {},
   "outputs": [],
   "source": [
    "#time axis\n",
    "timearray = np.array(t_list)*0.6582119  # hbar = 0.6582119 (eV fs)\n",
    "dtime  = t_list[2]-t_list[1]\n",
    "\n",
    "restime = len(timearray)\n",
    "denergy  = 2 * np.pi / (restime * dtime)\n",
    "energyaxis = np.concatenate((np.arange(0, restime/ 2-1),\n",
    "                        np.arange(-restime/ 2, 0))) * denergy\n",
    "ZeroPointEnergy = 0.22585\n",
    "energyaxisshifted = energyaxis - ZeroPointEnergy\n",
    "energyaxisshifted_mask = (energyaxisshifted >= -1.1) & (energyaxisshifted <= 1.4)\n",
    "\n",
    "autoarray = np.array(auto_list)\n",
    "autoarray *= np.exp(-timearray/30) #broadening function\n",
    "autofft  = np.fft.ifft(autoarray)\n",
    "autofft *= 40 #adjustable scaling factor"
   ]
  },
  {
   "cell_type": "code",
   "execution_count": 4,
   "id": "8366e70c",
   "metadata": {},
   "outputs": [],
   "source": [
    "def total_variation_distance(p, q):\n",
    "    return 0.5 * np.sum(np.abs(p - q))"
   ]
  },
  {
   "cell_type": "code",
   "execution_count": 5,
   "id": "e4b1eeaf",
   "metadata": {},
   "outputs": [
    {
     "name": "stdout",
     "output_type": "stream",
     "text": [
      "Number of Measurements Reaching TVD Threshold of 4.00%：7000, Actual TVD：3.39%\n",
      "Number of Measurements Reaching TVD Threshold of 3.00%：15000, Actual TVD：2.65%\n",
      "Number of Measurements Reaching TVD Threshold of 2.00%：32000, Actual TVD：1.94%\n"
     ]
    },
    {
     "ename": "KeyboardInterrupt",
     "evalue": "",
     "output_type": "error",
     "traceback": [
      "\u001b[1;31m---------------------------------------------------------------------------\u001b[0m",
      "\u001b[1;31mKeyboardInterrupt\u001b[0m                         Traceback (most recent call last)",
      "Cell \u001b[1;32mIn[5], line 26\u001b[0m\n\u001b[0;32m     21\u001b[0m stable_counts \u001b[38;5;241m=\u001b[39m {tvd: \u001b[38;5;241m0\u001b[39m \u001b[38;5;28;01mfor\u001b[39;00m tvd \u001b[38;5;129;01min\u001b[39;00m tvd_thresholds}  \n\u001b[0;32m     24\u001b[0m \u001b[38;5;28;01mfor\u001b[39;00m N \u001b[38;5;129;01min\u001b[39;00m \u001b[38;5;28mrange\u001b[39m(\u001b[38;5;241m1000\u001b[39m, max_measurements \u001b[38;5;241m+\u001b[39m \u001b[38;5;241m1\u001b[39m, \u001b[38;5;241m1000\u001b[39m):\n\u001b[1;32m---> 26\u001b[0m     samples \u001b[38;5;241m=\u001b[39m target_distribution\u001b[38;5;241m.\u001b[39mrvs(size\u001b[38;5;241m=\u001b[39mN)\n\u001b[0;32m     29\u001b[0m     empirical_counts \u001b[38;5;241m=\u001b[39m np\u001b[38;5;241m.\u001b[39marray([np\u001b[38;5;241m.\u001b[39msum(samples \u001b[38;5;241m==\u001b[39m x) \u001b[38;5;28;01mfor\u001b[39;00m x \u001b[38;5;129;01min\u001b[39;00m energyaxisshifted])\n\u001b[0;32m     30\u001b[0m     empirical_distribution \u001b[38;5;241m=\u001b[39m empirical_counts \u001b[38;5;241m/\u001b[39m N\n",
      "File \u001b[1;32mD:\\anaconda\\Lib\\site-packages\\scipy\\stats\\_distn_infrastructure.py:3357\u001b[0m, in \u001b[0;36mrv_discrete.rvs\u001b[1;34m(self, *args, **kwargs)\u001b[0m\n\u001b[0;32m   3328\u001b[0m \u001b[38;5;250m\u001b[39m\u001b[38;5;124;03m\"\"\"Random variates of given type.\u001b[39;00m\n\u001b[0;32m   3329\u001b[0m \n\u001b[0;32m   3330\u001b[0m \u001b[38;5;124;03mParameters\u001b[39;00m\n\u001b[1;32m   (...)\u001b[0m\n\u001b[0;32m   3354\u001b[0m \n\u001b[0;32m   3355\u001b[0m \u001b[38;5;124;03m\"\"\"\u001b[39;00m\n\u001b[0;32m   3356\u001b[0m kwargs[\u001b[38;5;124m'\u001b[39m\u001b[38;5;124mdiscrete\u001b[39m\u001b[38;5;124m'\u001b[39m] \u001b[38;5;241m=\u001b[39m \u001b[38;5;28;01mTrue\u001b[39;00m\n\u001b[1;32m-> 3357\u001b[0m \u001b[38;5;28;01mreturn\u001b[39;00m \u001b[38;5;28msuper\u001b[39m()\u001b[38;5;241m.\u001b[39mrvs(\u001b[38;5;241m*\u001b[39margs, \u001b[38;5;241m*\u001b[39m\u001b[38;5;241m*\u001b[39mkwargs)\n",
      "File \u001b[1;32mD:\\anaconda\\Lib\\site-packages\\scipy\\stats\\_distn_infrastructure.py:1048\u001b[0m, in \u001b[0;36mrv_generic.rvs\u001b[1;34m(self, *args, **kwds)\u001b[0m\n\u001b[0;32m   1045\u001b[0m \u001b[38;5;28;01melse\u001b[39;00m:\n\u001b[0;32m   1046\u001b[0m     random_state \u001b[38;5;241m=\u001b[39m \u001b[38;5;28mself\u001b[39m\u001b[38;5;241m.\u001b[39m_random_state\n\u001b[1;32m-> 1048\u001b[0m vals \u001b[38;5;241m=\u001b[39m \u001b[38;5;28mself\u001b[39m\u001b[38;5;241m.\u001b[39m_rvs(\u001b[38;5;241m*\u001b[39margs, size\u001b[38;5;241m=\u001b[39msize, random_state\u001b[38;5;241m=\u001b[39mrandom_state)\n\u001b[0;32m   1050\u001b[0m vals \u001b[38;5;241m=\u001b[39m vals \u001b[38;5;241m*\u001b[39m scale \u001b[38;5;241m+\u001b[39m loc\n\u001b[0;32m   1052\u001b[0m \u001b[38;5;66;03m# do not forget to restore the _random_state\u001b[39;00m\n",
      "File \u001b[1;32mD:\\anaconda\\Lib\\site-packages\\scipy\\stats\\_distn_infrastructure.py:3978\u001b[0m, in \u001b[0;36mrv_sample._rvs\u001b[1;34m(self, size, random_state)\u001b[0m\n\u001b[0;32m   3976\u001b[0m     Y \u001b[38;5;241m=\u001b[39m \u001b[38;5;28mself\u001b[39m\u001b[38;5;241m.\u001b[39m_ppf(U)[\u001b[38;5;241m0\u001b[39m]\n\u001b[0;32m   3977\u001b[0m \u001b[38;5;28;01melse\u001b[39;00m:\n\u001b[1;32m-> 3978\u001b[0m     Y \u001b[38;5;241m=\u001b[39m \u001b[38;5;28mself\u001b[39m\u001b[38;5;241m.\u001b[39m_ppf(U)\n\u001b[0;32m   3979\u001b[0m \u001b[38;5;28;01mreturn\u001b[39;00m Y\n",
      "File \u001b[1;32mD:\\anaconda\\Lib\\site-packages\\scipy\\stats\\_distn_infrastructure.py:3967\u001b[0m, in \u001b[0;36mrv_sample._ppf\u001b[1;34m(self, q)\u001b[0m\n\u001b[0;32m   3965\u001b[0m \u001b[38;5;28;01mdef\u001b[39;00m \u001b[38;5;21m_ppf\u001b[39m(\u001b[38;5;28mself\u001b[39m, q):\n\u001b[0;32m   3966\u001b[0m     qq, sqq \u001b[38;5;241m=\u001b[39m np\u001b[38;5;241m.\u001b[39mbroadcast_arrays(q[\u001b[38;5;241m.\u001b[39m\u001b[38;5;241m.\u001b[39m\u001b[38;5;241m.\u001b[39m, \u001b[38;5;28;01mNone\u001b[39;00m], \u001b[38;5;28mself\u001b[39m\u001b[38;5;241m.\u001b[39mqvals)\n\u001b[1;32m-> 3967\u001b[0m     indx \u001b[38;5;241m=\u001b[39m argmax(sqq \u001b[38;5;241m>\u001b[39m\u001b[38;5;241m=\u001b[39m qq, axis\u001b[38;5;241m=\u001b[39m\u001b[38;5;241m-\u001b[39m\u001b[38;5;241m1\u001b[39m)\n\u001b[0;32m   3968\u001b[0m     \u001b[38;5;28;01mreturn\u001b[39;00m \u001b[38;5;28mself\u001b[39m\u001b[38;5;241m.\u001b[39mxk[indx]\n",
      "File \u001b[1;32m<__array_function__ internals>:177\u001b[0m, in \u001b[0;36margmax\u001b[1;34m(*args, **kwargs)\u001b[0m\n",
      "\u001b[1;31mKeyboardInterrupt\u001b[0m: "
     ]
    }
   ],
   "source": [
    "f_x = np.abs(np.real(autofft))-np.min(np.abs(np.real(autofft)))\n",
    "\n",
    "f_x = f_x / np.sum(f_x)\n",
    "\n",
    "target_distribution = rv_discrete(values=(energyaxisshifted, f_x))\n",
    "\n",
    "np.random.seed(0) \n",
    "tvd_thresholds = [0.04, 0.03, 0.02, 0.01] \n",
    "max_measurements = 200000  \n",
    "\n",
    "required_measurements = {tvd: None for tvd in tvd_thresholds}  \n",
    "empirical_distributions = {tvd: [] for tvd in tvd_thresholds}\n",
    "initial_measurements = {tvd: None for tvd in tvd_thresholds} \n",
    "initial_distributions = {tvd: None for tvd in tvd_thresholds}  \n",
    "required_tvds = {tvd: None for tvd in tvd_thresholds}  \n",
    "\n",
    "\n",
    "consecutive_threshold_met = 5  \n",
    "sample_counts = []\n",
    "tvds = []\n",
    "stable_counts = {tvd: 0 for tvd in tvd_thresholds}  \n",
    "\n",
    "\n",
    "for N in range(1000, max_measurements + 1, 1000):\n",
    "    \n",
    "    samples = target_distribution.rvs(size=N)\n",
    "    \n",
    "    \n",
    "    empirical_counts = np.array([np.sum(samples == x) for x in energyaxisshifted])\n",
    "    empirical_distribution = empirical_counts / N\n",
    "\n",
    "    \n",
    "    current_tvd = total_variation_distance(f_x[energyaxisshifted_mask], empirical_distribution[energyaxisshifted_mask])\n",
    "    sample_counts.append(N)\n",
    "    tvds.append(current_tvd)\n",
    "    \n",
    "    for tvd in tvd_thresholds:\n",
    "        if current_tvd < tvd:\n",
    "            stable_counts[tvd] += 1  \n",
    "            \n",
    "            if stable_counts[tvd] == 1:\n",
    "                initial_measurements[tvd] = N\n",
    "                initial_distributions[tvd] = empirical_distribution.copy()\n",
    "            \n",
    "            if stable_counts[tvd] == consecutive_threshold_met and required_measurements[tvd] is None:\n",
    "                required_measurements[tvd] = initial_measurements[tvd]\n",
    "                empirical_distributions[tvd] = initial_distributions[tvd]\n",
    "                required_tvds[tvd] = current_tvd  \n",
    "                print(f\"Number of Measurements Reaching TVD Threshold of {tvd*100:.2f}%：{initial_measurements[tvd]}, Actual TVD：{current_tvd*100:.2f}%\")\n",
    "        else:\n",
    "            stable_counts[tvd] = 0            "
   ]
  },
  {
   "cell_type": "code",
   "execution_count": null,
   "id": "62543c4c",
   "metadata": {},
   "outputs": [],
   "source": [
    "plt.plot(sample_counts, tvds)\n",
    "plt.ylim(0, 0.12)\n",
    "plt.xlabel(\"Number of Measurements (M)\")\n",
    "plt.ylabel(\"Total Variation Distance (TVD)\")"
   ]
  },
  {
   "cell_type": "code",
   "execution_count": null,
   "id": "f589c1a7",
   "metadata": {},
   "outputs": [],
   "source": [
    "plt.plot(energyaxisshifted[energyaxisshifted_mask], f_x[energyaxisshifted_mask], label='Target Spectrum')\n",
    "for i, tvd in enumerate(tvd_thresholds):\n",
    "    if empirical_distributions[tvd] is not None:\n",
    "        plt.plot(energyaxisshifted[energyaxisshifted_mask], empirical_distributions[tvd][energyaxisshifted_mask],label=f'M = {required_measurements[tvd]:,}, TVD = {required_tvds[tvd] * 100:.2f}%')\n",
    "\n",
    "plt.ylim(-0.005,0.05)\n",
    "plt.xlim(-1,1)\n",
    "plt.yticks([])\n",
    "plt.legend(loc='best')\n",
    "plt.ylabel('Intensity')\n",
    "plt.xlabel('Energy (eV)')"
   ]
  }
 ],
 "metadata": {
  "kernelspec": {
   "display_name": "Python 3 (ipykernel)",
   "language": "python",
   "name": "python3"
  },
  "language_info": {
   "codemirror_mode": {
    "name": "ipython",
    "version": 3
   },
   "file_extension": ".py",
   "mimetype": "text/x-python",
   "name": "python",
   "nbconvert_exporter": "python",
   "pygments_lexer": "ipython3",
   "version": "3.11.4"
  }
 },
 "nbformat": 4,
 "nbformat_minor": 5
}
