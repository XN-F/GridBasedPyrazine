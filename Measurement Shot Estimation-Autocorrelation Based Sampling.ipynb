{
 "cells": [
  {
   "cell_type": "code",
   "execution_count": 1,
   "id": "ddf18cb8",
   "metadata": {},
   "outputs": [],
   "source": [
    "import numpy as np\n",
    "from scipy.stats import rv_discrete\n",
    "from numpy import genfromtxt\n",
    "import matplotlib.pyplot as plt\n",
    "from numpy import genfromtxt"
   ]
  },
  {
   "cell_type": "code",
   "execution_count": 2,
   "id": "5ec5771a",
   "metadata": {},
   "outputs": [],
   "source": [
    "#load the saved data for further use:\n",
    "t_list = genfromtxt('pyrazine t_list.csv', delimiter=',', dtype=np.complex128)\n",
    "auto_list = genfromtxt('pyrazine auto_list.csv', delimiter=',', dtype=np.complex128)"
   ]
  },
  {
   "cell_type": "code",
   "execution_count": 3,
   "id": "22b75049",
   "metadata": {},
   "outputs": [],
   "source": [
    "#time axis\n",
    "timearray = np.array(t_list)*0.6582119  # hbar = 0.6582119 (eV fs)\n",
    "dtime  = t_list[2]-t_list[1]\n",
    "\n",
    "restime = len(timearray)\n",
    "denergy  = 2 * np.pi / (restime * dtime)\n",
    "energyaxis = np.concatenate((np.arange(0, restime/ 2-1),\n",
    "                        np.arange(-restime/ 2, 0))) * denergy\n",
    "ZeroPointEnergy = 0.22585\n",
    "energyaxisshifted = energyaxis - ZeroPointEnergy\n",
    "energyaxisshifted_mask = (energyaxisshifted >= -1.1) & (energyaxisshifted <= 1.4)\n",
    "\n",
    "autoarray = np.array(auto_list)\n",
    "#autoarray  *= np.cos(np.pi*timearray/(2*np.max(timearray))) # neglecting this damping function won't result in big difference\n",
    "autoarray *= np.exp(-timearray/30) #broadening function\n",
    "autofft  = np.fft.ifft(autoarray)\n",
    "autofft *= 40 #adjustable scaling factor"
   ]
  },
  {
   "cell_type": "code",
   "execution_count": 4,
   "id": "37e83400",
   "metadata": {},
   "outputs": [],
   "source": [
    "autolist = np.array(auto_list)\n",
    "true_f_t_real=np.real(autolist)\n",
    "true_f_t_imag=np.imag(autolist)\n",
    "\n",
    "true_spectrum = np.abs(np.real(autofft))-np.min(np.abs(np.real(autofft)))\n",
    "true_spectrum_prob = true_spectrum[energyaxisshifted_mask]\n",
    "true_spectrum_prob /= np.sum(true_spectrum_prob)"
   ]
  },
  {
   "cell_type": "code",
   "execution_count": 5,
   "id": "3759ad23",
   "metadata": {},
   "outputs": [],
   "source": [
    "def total_variation_distance(p, q):\n",
    "    return 0.5 * np.sum(np.abs(p - q))"
   ]
  },
  {
   "cell_type": "code",
   "execution_count": 6,
   "id": "0587d4ed",
   "metadata": {},
   "outputs": [
    {
     "name": "stdout",
     "output_type": "stream",
     "text": [
      "Number of Measurements Reaching TVD Threshold of 4.00%：16000, Actual TVD：3.84%\n",
      "Number of Measurements Reaching TVD Threshold of 3.00%：21000, Actual TVD：2.95%\n"
     ]
    },
    {
     "ename": "KeyboardInterrupt",
     "evalue": "",
     "output_type": "error",
     "traceback": [
      "\u001b[1;31m---------------------------------------------------------------------------\u001b[0m",
      "\u001b[1;31mKeyboardInterrupt\u001b[0m                         Traceback (most recent call last)",
      "Cell \u001b[1;32mIn[6], line 23\u001b[0m\n\u001b[0;32m     20\u001b[0m \u001b[38;5;28;01mfor\u001b[39;00m fr, fi \u001b[38;5;129;01min\u001b[39;00m \u001b[38;5;28mzip\u001b[39m(true_f_t_real, true_f_t_imag):\n\u001b[0;32m     22\u001b[0m     p0_r \u001b[38;5;241m=\u001b[39m (\u001b[38;5;241m1\u001b[39m \u001b[38;5;241m+\u001b[39m fr) \u001b[38;5;241m/\u001b[39m \u001b[38;5;241m2\u001b[39m\n\u001b[1;32m---> 23\u001b[0m     samples_r \u001b[38;5;241m=\u001b[39m np\u001b[38;5;241m.\u001b[39mrandom\u001b[38;5;241m.\u001b[39mchoice([\u001b[38;5;241m1\u001b[39m, \u001b[38;5;241m0\u001b[39m], size\u001b[38;5;241m=\u001b[39mN, p\u001b[38;5;241m=\u001b[39m[p0_r, \u001b[38;5;241m1\u001b[39m \u001b[38;5;241m-\u001b[39m p0_r])\n\u001b[0;32m     24\u001b[0m     r \u001b[38;5;241m=\u001b[39m \u001b[38;5;241m-\u001b[39m(\u001b[38;5;241m2\u001b[39m \u001b[38;5;241m*\u001b[39m np\u001b[38;5;241m.\u001b[39mmean(samples_r) \u001b[38;5;241m-\u001b[39m \u001b[38;5;241m1\u001b[39m)\n\u001b[0;32m     26\u001b[0m     p0_i \u001b[38;5;241m=\u001b[39m (\u001b[38;5;241m1\u001b[39m \u001b[38;5;241m+\u001b[39m (\u001b[38;5;241m-\u001b[39mfi)) \u001b[38;5;241m/\u001b[39m \u001b[38;5;241m2\u001b[39m\n",
      "\u001b[1;31mKeyboardInterrupt\u001b[0m: "
     ]
    }
   ],
   "source": [
    "np.random.seed(0)\n",
    "\n",
    "tvd_thresholds = [0.04, 0.03, 0.02, 0.01]\n",
    "consecutive_required = 5\n",
    "max_measurements = 300000\n",
    "step = 1000\n",
    "\n",
    "stable_counts = {tvd: 0 for tvd in tvd_thresholds}\n",
    "required_measurements = {tvd: None for tvd in tvd_thresholds}\n",
    "initial_measurements = {tvd: None for tvd in tvd_thresholds}\n",
    "required_tvds_fft = {tvd: None for tvd in tvd_thresholds}\n",
    "empirical_spectrum_probs = {tvd: None for tvd in tvd_thresholds}\n",
    "\n",
    "sample_counts = []\n",
    "tvds_fft = []\n",
    "\n",
    "for N in range(step, max_measurements + 1, step):\n",
    "    estimated_f_t_complex = []\n",
    "\n",
    "    for fr, fi in zip(true_f_t_real, true_f_t_imag):\n",
    "        \n",
    "        p0_r = (1 + fr) / 2\n",
    "        samples_r = np.random.choice([1, 0], size=N, p=[p0_r, 1 - p0_r])\n",
    "        r = -(2 * np.mean(samples_r) - 1)\n",
    "\n",
    "        p0_i = (1 + (-fi)) / 2\n",
    "        samples_i = np.random.choice([1, 0], size=N, p=[p0_i, 1 - p0_i])\n",
    "        i_val = 2 * np.mean(samples_i) - 1\n",
    "\n",
    "        estimated_f_t_complex.append(r + 1j * i_val)\n",
    "\n",
    "    estimated_f_t_complex = np.array(estimated_f_t_complex)\n",
    "    \n",
    "    estimated_spectrum = np.fft.ifft(estimated_f_t_complex * np.exp(-timearray/30)) * 40\n",
    "    estimated_spectrum_prob_inte = np.abs(np.real(estimated_spectrum)) - np.min(np.abs(np.real(estimated_spectrum)))\n",
    "    estimated_spectrum_prob = estimated_spectrum_prob_inte[energyaxisshifted_mask]\n",
    "    estimated_spectrum_prob /= np.sum(estimated_spectrum_prob)\n",
    "\n",
    "    current_tvd_fft = total_variation_distance(true_spectrum_prob, estimated_spectrum_prob)\n",
    "    sample_counts.append(N)\n",
    "    tvds_fft.append(current_tvd_fft)\n",
    "\n",
    "    for tvd in tvd_thresholds:\n",
    "        if current_tvd_fft < tvd:\n",
    "            stable_counts[tvd] += 1\n",
    "            if stable_counts[tvd] == 1:\n",
    "                initial_measurements[tvd] = N\n",
    "                empirical_spectrum_probs[tvd] = estimated_spectrum_prob.copy()\n",
    "            if stable_counts[tvd] == consecutive_required and required_measurements[tvd] is None:\n",
    "                required_measurements[tvd] = initial_measurements[tvd]\n",
    "                required_tvds_fft[tvd] = current_tvd_fft\n",
    "                print(f\"Number of Measurements Reaching TVD Threshold of {tvd*100:.2f}%：{initial_measurements[tvd]}, Actual TVD：{current_tvd_fft*100:.2f}%\")\n",
    "        else:\n",
    "            stable_counts[tvd] = 0"
   ]
  },
  {
   "cell_type": "code",
   "execution_count": null,
   "id": "7361a23e",
   "metadata": {},
   "outputs": [],
   "source": [
    "plt.plot(sample_counts, tvds_fft)\n",
    "plt.ylim(0, 0.12)\n",
    "plt.xlabel(\"Number of Measurements (M)\")\n",
    "plt.ylabel(\"Total Variation Distance (TVD)\")"
   ]
  },
  {
   "cell_type": "code",
   "execution_count": null,
   "id": "792c6a00",
   "metadata": {},
   "outputs": [],
   "source": [
    "plt.plot(energyaxisshifted[energyaxisshifted_mask], true_spectrum_prob, label='Target Spectrum')\n",
    "\n",
    "sorted_tvds = sorted([tvd for tvd in required_measurements if required_measurements[tvd] is not None],\n",
    "                     key=lambda x: required_measurements[x])\n",
    "\n",
    "for i, tvd in enumerate(sorted_tvds):\n",
    "    prob = empirical_spectrum_probs[tvd]\n",
    "    label = f'M = {required_measurements[tvd]:,}, TVD = {required_tvds_fft[tvd]*100:.2f}%'\n",
    "    plt.plot(energyaxisshifted[energyaxisshifted_mask], prob, label=label)\n",
    "\n",
    "plt.legend(loc='best')\n",
    "plt.ylim(-0.005, 0.05)\n",
    "plt.yticks([])\n",
    "plt.xlim(-1, 1)\n",
    "plt.xlabel(\"Energy (eV)\")\n",
    "plt.ylabel(\"Intensity\")"
   ]
  }
 ],
 "metadata": {
  "kernelspec": {
   "display_name": "Python 3 (ipykernel)",
   "language": "python",
   "name": "python3"
  },
  "language_info": {
   "codemirror_mode": {
    "name": "ipython",
    "version": 3
   },
   "file_extension": ".py",
   "mimetype": "text/x-python",
   "name": "python",
   "nbconvert_exporter": "python",
   "pygments_lexer": "ipython3",
   "version": "3.11.4"
  }
 },
 "nbformat": 4,
 "nbformat_minor": 5
}
