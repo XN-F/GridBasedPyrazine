{
 "cells": [
  {
   "cell_type": "code",
   "execution_count": null,
   "id": "f9387f71",
   "metadata": {},
   "outputs": [],
   "source": [
    "import numpy as np\n",
    "from scipy.sparse import diags\n",
    "from scipy.sparse.linalg import expm\n",
    "import scipy\n",
    "from matplotlib import animation, rc, pyplot as plt"
   ]
  },
  {
   "cell_type": "code",
   "execution_count": null,
   "id": "967187c6",
   "metadata": {},
   "outputs": [],
   "source": [
    "#time axis\n",
    "timearray = np.array(t_list)*0.6582119  # hbar = 0.6582119 (eV fs)"
   ]
  },
  {
   "cell_type": "code",
   "execution_count": null,
   "id": "d7abf07f",
   "metadata": {},
   "outputs": [],
   "source": [
    "#psi_list-related figure\n",
    "#Maximum values of the probability density at the boundaries for four modes\n",
    "\n",
    "max_values_10a = []\n",
    "max_values_9a = []\n",
    "max_values_1 = []\n",
    "max_values_6a = []\n",
    "list_of_arrays = psi_list\n",
    "for array in list_of_arrays:\n",
    "    edge_slice10a_0 = array[:,:,:,:,0]  \n",
    "    edge_slice9a_0 = array[:,:,:,0,:] \n",
    "    edge_slice1_0 = array[:,:,0,:,:] \n",
    "    edge_slice6a_0 = array[:,0,:,:,:] \n",
    "    mod_squared_10a_0 = np.abs(edge_slice10a_0) ** 2 \n",
    "    mod_squared_9a_0 = np.abs(edge_slice9a_0) ** 2 \n",
    "    mod_squared_1_0 = np.abs(edge_slice1_0) ** 2 \n",
    "    mod_squared_6a_0 = np.abs(edge_slice6a_0) ** 2 \n",
    "\n",
    "    edge_slice10a_1 = array[:,:,:,:,-1]  \n",
    "    edge_slice9a_1 = array[:,:,:,-1,:] \n",
    "    edge_slice1_1 = array[:,:,-1,:,:] \n",
    "    edge_slice6a_1 = array[:,-1,:,:,:] \n",
    "    mod_squared_10a_1 = np.abs(edge_slice10a_1) ** 2 \n",
    "    mod_squared_9a_1 = np.abs(edge_slice9a_1) ** 2 \n",
    "    mod_squared_1_1 = np.abs(edge_slice1_1) ** 2 \n",
    "    mod_squared_6a_1 = np.abs(edge_slice6a_1) ** 2 \n",
    "    \n",
    "    max_value_10a_0 = np.max(mod_squared_10a_0)\n",
    "    max_value_10a_1 = np.max(mod_squared_10a_1)\n",
    "    max_value_10a = np.max([max_value_10a_0, max_value_10a_1])\n",
    "    max_values_10a.append(max_value_10a)  #10a mode\n",
    "    \n",
    "    max_value_9a_0 = np.max(mod_squared_9a_0)\n",
    "    max_value_9a_1 = np.max(mod_squared_9a_1)\n",
    "    max_value_9a = np.max([np.max(mod_squared_9a_0), np.max(mod_squared_9a_1)])\n",
    "    max_values_9a.append(max_value_9a)  #9a mode\n",
    "    \n",
    "    max_value_1_0 = np.max(mod_squared_1_0)\n",
    "    max_value_1_1 = np.max(mod_squared_1_1)\n",
    "    max_value_1 = np.max([np.max(mod_squared_1_0), np.max(mod_squared_1_1)])\n",
    "    max_values_1.append(max_value_1)  #1 mode\n",
    "\n",
    "    max_value_6a_0 = np.max(mod_squared_6a_0)\n",
    "    max_value_6a_1 = np.max(mod_squared_6a_1)\n",
    "    max_value_6a = np.max([np.max(mod_squared_6a_0), np.max(mod_squared_6a_1)])\n",
    "    max_values_6a.append(max_value_6a)  #6a mode\n",
    "\n",
    "plt.plot(timearray,max_values_10a)\n",
    "plt.plot(timearray,max_values_9a)\n",
    "plt.plot(timearray,max_values_1)\n",
    "plt.plot(timearray,max_values_6a)\n",
    "\n",
    "plt.ylim(-0.0005, 0.021)\n",
    "plt.xlabel('Time (fs)')\n",
    "plt.ylabel('Prabability Density')"
   ]
  },
  {
   "cell_type": "code",
   "execution_count": null,
   "id": "caa0723c",
   "metadata": {},
   "outputs": [],
   "source": [
    "#nor_list-related figure\n",
    "#norm preservation check during time evolution\n",
    "line, = plt.plot(timearray,np.real(nor_list))\n",
    "plt.ylim(0.9,1.1)"
   ]
  },
  {
   "cell_type": "code",
   "execution_count": null,
   "id": "750a8b55",
   "metadata": {},
   "outputs": [],
   "source": [
    "#auto_list-related figure\n",
    "#absolute value of autocorrelation\n",
    "line, = plt.plot(timearray,np.abs(auto_list))\n",
    "plt.ylim(0,0.3)\n",
    "plt.ylabel('Abs Autocorrelation')\n",
    "plt.xlabel('Time (fs)')"
   ]
  },
  {
   "cell_type": "code",
   "execution_count": null,
   "id": "856cbea3",
   "metadata": {},
   "outputs": [],
   "source": [
    "#auto_list-related figure\n",
    "#absorption spectrum figure\n",
    "restime = len(t_list)\n",
    "dtime  = t_list[2]-t_list[1]\n",
    "denergy  = 2 * np.pi / (restime * dtime)\n",
    "energyaxis = np.concatenate((np.arange(0, restime/ 2-1),\n",
    "                        np.arange(-restime/ 2, 0))) * denergy\n",
    "ZeroPointEnergy = np.real(pyrz.energypure)\n",
    "energyaxisshifted = energyaxis - ZeroPointEnergy\n",
    "\n",
    "autoarray = np.array(auto_list)\n",
    "autoarray *= np.exp(-timearray/30) #broadening function\n",
    "autofft  = np.fft.ifft(autoarray)\n",
    "autofft *= 40 #adjustable scaling factor \n",
    "\n",
    "line, = plt.plot(energyaxisshifted, np.abs(np.real(autofft))-np.min(np.abs(np.real(autofft))))\n",
    "plt.ylim(-0.1,1)\n",
    "plt.yticks([])\n",
    "plt.xlim(-1,1)\n",
    "plt.ylabel('Intensity')\n",
    "plt.xlabel('Energy (eV)')"
   ]
  },
  {
   "cell_type": "code",
   "execution_count": null,
   "id": "28768041",
   "metadata": {},
   "outputs": [],
   "source": [
    "#oneprob_list, twoprob_list-related figure\n",
    "#probability of S1 and S2 states plotting\n",
    "sums1s2 = np.array(oneprob_list)+np.array(twoprob_list)\n",
    "sumlist = sums1s2.tolist()\n",
    "\n",
    "line, = plt.plot(timearray, np.real(oneprob_list))\n",
    "line1, = plt.plot(timearray, np.real(twoprob_list))\n",
    "line2, = plt.plot(timearray, np.real(sumlist))\n",
    "\n",
    "plt.ylim(-0.1,1.1)\n",
    "plt.ylabel('Probability')\n",
    "plt.xlabel('Time (fs)')"
   ]
  }
 ],
 "metadata": {
  "kernelspec": {
   "display_name": "Python 3 (ipykernel)",
   "language": "python",
   "name": "python3"
  },
  "language_info": {
   "codemirror_mode": {
    "name": "ipython",
    "version": 3
   },
   "file_extension": ".py",
   "mimetype": "text/x-python",
   "name": "python",
   "nbconvert_exporter": "python",
   "pygments_lexer": "ipython3",
   "version": "3.11.4"
  }
 },
 "nbformat": 4,
 "nbformat_minor": 5
}
